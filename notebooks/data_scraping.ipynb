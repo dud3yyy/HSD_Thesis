{
 "cells": [
  {
   "cell_type": "code",
   "execution_count": 1,
   "metadata": {},
   "outputs": [],
   "source": [
    "import sys\n",
    "import os\n",
    "\n",
    "sys.path.append(os.path.abspath(\"C:\\\\Users\\\\arbru\\\\OneDrive\\\\Arbi\\\\HSD_Thesis\\\\HSD_Thesis\"))"
   ]
  },
  {
   "cell_type": "code",
   "execution_count": 2,
   "metadata": {},
   "outputs": [],
   "source": [
    "from src.scraping.twitter_scraper import TwitterScraper\n",
    "\n",
    "bearer_token =\"\"\n",
    "output_path = r\"C:/Users/arbru/OneDrive/Arbi/HSD_Thesis/HSD_Thesis/data/unfiltered_data/x_data.csv\"\n",
    "x_scraper = TwitterScraper(bearer_token, output_path)"
   ]
  },
  {
   "cell_type": "markdown",
   "metadata": {},
   "source": [
    "### Normal queries"
   ]
  },
  {
   "cell_type": "code",
   "execution_count": 9,
   "metadata": {},
   "outputs": [],
   "source": [
    "qu1 = '(\"love\" OR \"amazing\" OR \"grateful\") -is:retweet -is:reply -has:links lang:en'\n",
    "qu2 = '(\"excited\" OR \"hopeful\" OR \"peace\") -is:retweet -is:reply -has:links lang:en'\n",
    "qu3 = '(\"update\" OR \"breaking news\" OR \"announcement\" OR \"summary\") -is:retweet -is:reply -has:links lang:en'"
   ]
  },
  {
   "cell_type": "markdown",
   "metadata": {},
   "source": [
    "### Hate Speech oriented queries"
   ]
  },
  {
   "cell_type": "code",
   "execution_count": 10,
   "metadata": {},
   "outputs": [],
   "source": [
    "q1 = '(\"hate speech\" OR \"offensive language\" OR \"toxic content\") -is:retweet -is:reply -has:links lang:en'\n",
    "q2 = '(\"women kitchen belong\" OR \"women belong in the kitchen\") -is:retweet -is:reply -has:links lang:en'\n",
    "q3 = '\"homophobic\" -is:retweet -is:reply -has:links lang:en'\n",
    "q4 = '(\"feminazis\" OR \"only two genders\" OR \"not a real man\" OR \"she asked for it\" OR \"is a cult\") -is:retweet -is:reply -has:links lang:en'\n",
    "q5 = '\"go back to\" -is:retweet -is:reply -has:links lang:en'\n",
    "q6 = '(\"build the wall\" OR \"no immigrants allowed\") -is:retweet -is:reply -has:links lang:en'\n",
    "q7 = '(\"BanTrans\" OR \"NoHomo\" OR \"transgender\") -is:retweet -is:reply -has:links lang:en'\n",
    "q7 = '(\"burn in hell\" OR \"against gods will\") -is:retweet -is:reply -has:links lang:en'\n"
   ]
  },
  {
   "cell_type": "code",
   "execution_count": null,
   "metadata": {},
   "outputs": [],
   "source": [
    "x_scraper.scrape_tweets(query=qu3, count=30)"
   ]
  },
  {
   "cell_type": "markdown",
   "metadata": {},
   "source": [
    "# Reddit scraper"
   ]
  },
  {
   "cell_type": "code",
   "execution_count": 13,
   "metadata": {},
   "outputs": [],
   "source": [
    "from src.scraping.reddit_scraper import RedditScraper\n",
    "\n",
    "client_id=\"cMfAv0acYhvjl6TehZLZrQ\"\n",
    "client_secret=\"gn10jHy7yuyvDDDmyKGWSn7yGovz-w\"\n",
    "user_agent=\"hate speech detection by/ Haunting-Jackfruit53\"\n",
    "\n",
    "reddit_out_path = r\"C:/Users/arbru/OneDrive/Arbi/HSD_Thesis/HSD_Thesis/data/raw/reddit_data.csv\""
   ]
  },
  {
   "cell_type": "code",
   "execution_count": 18,
   "metadata": {},
   "outputs": [],
   "source": [
    "subreddits = ['gender', 'Conspiracy', 'UnpopularOpinion']\n",
    "query = 'homophobe'\n",
    "limit = 1000"
   ]
  },
  {
   "cell_type": "code",
   "execution_count": 19,
   "metadata": {},
   "outputs": [],
   "source": [
    "reddit_scraper = RedditScraper(output_path=reddit_out_path, client_id=client_id, client_secret=client_secret, user_agent=user_agent)\n",
    "reddit_scraper.scrape_posts(subreddits=subreddits, query=query, limit=limit)"
   ]
  },
  {
   "cell_type": "code",
   "execution_count": null,
   "metadata": {},
   "outputs": [],
   "source": []
  },
  {
   "cell_type": "code",
   "execution_count": null,
   "metadata": {},
   "outputs": [],
   "source": []
  }
 ],
 "metadata": {
  "kernelspec": {
   "display_name": ".venv",
   "language": "python",
   "name": "python3"
  },
  "language_info": {
   "codemirror_mode": {
    "name": "ipython",
    "version": 3
   },
   "file_extension": ".py",
   "mimetype": "text/x-python",
   "name": "python",
   "nbconvert_exporter": "python",
   "pygments_lexer": "ipython3",
   "version": "3.12.2"
  }
 },
 "nbformat": 4,
 "nbformat_minor": 2
}
