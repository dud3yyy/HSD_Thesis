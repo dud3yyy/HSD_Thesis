{
 "cells": [
  {
   "cell_type": "code",
   "execution_count": 1,
   "metadata": {},
   "outputs": [],
   "source": [
    "import sys\n",
    "import os\n",
    "\n",
    "sys.path.append(os.path.abspath(\"C:\\\\Users\\\\arbru\\\\OneDrive\\\\Arbi\\\\HSD_Thesis\\\\HSD_Thesis\"))"
   ]
  },
  {
   "cell_type": "code",
   "execution_count": 5,
   "metadata": {},
   "outputs": [],
   "source": [
    "from src.scraping.twitter_scraper import TwitterScraper\n",
    "\n",
    "bearer_token =\"AAAAAAAAAAAAAAAAAAAAANKuxgEAAAAA9F2n9ebyE98qTNIwO1zZUtBGHN8%3D66Uu0dGPh6UIxX7qisoDNeqirxBjwgRJ0Wf8VhXvf1xvwDdNk1\"\n",
    "output_path = r\"C:/Users/arbru/OneDrive/Arbi/HSD_Thesis/HSD_Thesis/data/raw/x_data.csv\""
   ]
  },
  {
   "cell_type": "markdown",
   "metadata": {},
   "source": [
    "### Neutral queries"
   ]
  },
  {
   "cell_type": "code",
   "execution_count": 6,
   "metadata": {},
   "outputs": [],
   "source": [
    "qu1 = '(\"love\" OR \"amazing\" OR \"grateful\") -is:retweet -is:reply -has:links lang:en'\n",
    "qu2 = '(\"excited\" OR \"hopeful\" OR \"peace\") -is:retweet -is:reply -has:links lang:en'\n",
    "qu3 = '(\"update\" OR \"breaking news\" OR \"announcement\" OR \"summary\") -is:retweet -is:reply -has:links lang:en'\n",
    "qu4 = '(\"anime\" OR \"cute\" OR \"amazing\") -is:retweet -is:reply -has:links lang:en'\n",
    "qu5 = '(\"I dont think\" OR \"flaws\" OR \"disagree\") -is:retweet -is:reply -has:links lang:en'\n"
   ]
  },
  {
   "cell_type": "markdown",
   "metadata": {},
   "source": [
    "### Hate Speech oriented queries"
   ]
  },
  {
   "cell_type": "code",
   "execution_count": 7,
   "metadata": {},
   "outputs": [],
   "source": [
    "q1 = '(\"hate speech\" OR \"offensive language\" OR \"toxic content\") -is:retweet -is:reply -has:links lang:en'\n",
    "q2 = '(\"women kitchen belong\" OR \"women belong in the kitchen\") -is:retweet -is:reply -has:links lang:en'\n",
    "q3 = '\"homophobic\" -is:retweet -is:reply -has:links lang:en'\n",
    "q4 = '(\"feminazis\" OR \"only two genders\" OR \"not a real man\" OR \"she asked for it\" OR \"is a cult\") -is:retweet -is:reply -has:links lang:en'\n",
    "q5 = '\"go back to\" -is:retweet -is:reply -has:links lang:en'\n",
    "q6 = '(\"build the wall\" OR \"no immigrants allowed\") -is:retweet -is:reply -has:links lang:en'\n",
    "q7 = '(\"BanTrans\" OR \"NoHomo\" OR \"transgender\") -is:retweet -is:reply -has:links lang:en'\n",
    "q8 = '(\"burn in hell\" OR \"against gods will\") -is:retweet -is:reply -has:links lang:en'\n",
    "q9 = '(\"stupid\" OR \"idiot\" OR \"trash\") -is:retweet -is:reply -has:links lang:en' # offensive \n"
   ]
  },
  {
   "cell_type": "code",
   "execution_count": null,
   "metadata": {},
   "outputs": [
    {
     "name": "stderr",
     "output_type": "stream",
     "text": [
      "Rate limit exceeded. Sleeping for 661 seconds.\n",
      "Rate limit exceeded. Sleeping for 752 seconds.\n"
     ]
    }
   ],
   "source": [
    "x_scraper = TwitterScraper(bearer_token, output_path)\n",
    "x_scraper.scrape_data(query=q5, count=40)"
   ]
  },
  {
   "cell_type": "markdown",
   "metadata": {},
   "source": [
    "# Reddit scraper"
   ]
  },
  {
   "cell_type": "code",
   "execution_count": 2,
   "metadata": {},
   "outputs": [],
   "source": [
    "from src.scraping.reddit_scraper import RedditScraper\n",
    "\n",
    "client_id=\"cMfAv0acYhvjl6TehZLZrQ\"\n",
    "client_secret=\"gn10jHy7yuyvDDDmyKGWSn7yGovz-w\"\n",
    "user_agent=\"hate speech detection by/ Haunting-Jackfruit53\"\n",
    "\n",
    "reddit_out_path = r\"C:/Users/arbru/OneDrive/Arbi/HSD_Thesis/HSD_Thesis/data/raw/reddit_data.csv\""
   ]
  },
  {
   "cell_type": "code",
   "execution_count": 3,
   "metadata": {},
   "outputs": [],
   "source": [
    "subreddits = ['gender', 'Conspiracy', 'UnpopularOpinion']\n",
    "query = 'men'\n",
    "limit = 10"
   ]
  },
  {
   "cell_type": "code",
   "execution_count": 4,
   "metadata": {},
   "outputs": [
    {
     "name": "stderr",
     "output_type": "stream",
     "text": [
      "2025-02-16 13:47:34,097 - INFO - Building dataframe...\n",
      "2025-02-16 13:47:34,272 - INFO - Data appended to C:/Users/arbru/OneDrive/Arbi/HSD_Thesis/HSD_Thesis/data/raw/reddit_data.csv\n"
     ]
    }
   ],
   "source": [
    "reddit_scraper = RedditScraper(output_path=reddit_out_path, client_id=client_id, client_secret=client_secret, user_agent=user_agent)\n",
    "reddit_scraper.scrape_data(subreddits=subreddits, query=query, limit=limit)"
   ]
  },
  {
   "cell_type": "code",
   "execution_count": null,
   "metadata": {},
   "outputs": [],
   "source": []
  },
  {
   "cell_type": "code",
   "execution_count": null,
   "metadata": {},
   "outputs": [],
   "source": []
  }
 ],
 "metadata": {
  "kernelspec": {
   "display_name": ".venv",
   "language": "python",
   "name": "python3"
  },
  "language_info": {
   "codemirror_mode": {
    "name": "ipython",
    "version": 3
   },
   "file_extension": ".py",
   "mimetype": "text/x-python",
   "name": "python",
   "nbconvert_exporter": "python",
   "pygments_lexer": "ipython3",
   "version": "3.12.2"
  }
 },
 "nbformat": 4,
 "nbformat_minor": 2
}
