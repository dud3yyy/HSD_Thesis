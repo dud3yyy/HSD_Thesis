{
 "cells": [
  {
   "cell_type": "code",
   "execution_count": 3,
   "metadata": {},
   "outputs": [],
   "source": [
    "import sys\n",
    "import os\n",
    "\n",
    "sys.path.append(os.path.abspath(\"\"))"
   ]
  },
  {
   "cell_type": "code",
   "execution_count": 10,
   "metadata": {},
   "outputs": [],
   "source": [
    "from src.DataScrapers.TwitterScraper import TwitterScraper\n",
    "\n",
    "bearer_token = \"\"\n",
    "output_path = \"\"\n",
    "x_scraper = TwitterScraper(bearer_token, output_path)"
   ]
  },
  {
   "cell_type": "code",
   "execution_count": 13,
   "metadata": {},
   "outputs": [],
   "source": [
    "q1 = '(\"hate speech\" OR \"offensive language\" OR \"toxic content\") -is:retweet -is:reply -has:links lang:en'\n",
    "q2 = '(\"women kitchen belong\" OR \"women belong in the kitchen\") -is:retweet -is:reply -has:links lang:en'\n",
    "q3 = '\"homophobic\" -is:retweet -is:reply -has:links lang:en'\n",
    "q4 = '(\"feminazis\" OR \"only two genders\" OR \"not a real man\" OR \"she asked for it\" OR \"is a cult\") -is:retweet -is:reply -has:links lang:en'\n",
    "q5 = '\"go back to\" -is:retweet -is:reply -has:links lang:en'\n",
    "q6 = '(\"build the wall\" OR \"no immigrants allowed\") -is:retweet -is:reply -has:links lang:en'\n"
   ]
  },
  {
   "cell_type": "code",
   "execution_count": 15,
   "metadata": {},
   "outputs": [
    {
     "name": "stderr",
     "output_type": "stream",
     "text": [
      "Rate limit exceeded. Sleeping for 691 seconds.\n"
     ]
    }
   ],
   "source": [
    "x_scraper.scrape_tweets(query=q5, count=10)"
   ]
  },
  {
   "cell_type": "code",
   "execution_count": null,
   "metadata": {},
   "outputs": [],
   "source": []
  }
 ],
 "metadata": {
  "kernelspec": {
   "display_name": ".venv",
   "language": "python",
   "name": "python3"
  },
  "language_info": {
   "codemirror_mode": {
    "name": "ipython",
    "version": 3
   },
   "file_extension": ".py",
   "mimetype": "text/x-python",
   "name": "python",
   "nbconvert_exporter": "python",
   "pygments_lexer": "ipython3",
   "version": "3.12.2"
  }
 },
 "nbformat": 4,
 "nbformat_minor": 2
}
