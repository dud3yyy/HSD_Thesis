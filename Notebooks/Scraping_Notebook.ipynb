{
 "cells": [
  {
   "cell_type": "code",
   "execution_count": null,
   "metadata": {},
   "outputs": [],
   "source": [
    "import sys\n",
    "import os\n",
    "\n",
    "sys.path.append(os.path.abspath(\"\")) # removed due to privacy\n",
    "from src.DataScrapers.TwitterScraper import TwitterScraper"
   ]
  },
  {
   "cell_type": "code",
   "execution_count": null,
   "metadata": {},
   "outputs": [
    {
     "name": "stderr",
     "output_type": "stream",
     "text": [
      "Rate limit exceeded. Sleeping for 764 seconds.\n"
     ]
    }
   ],
   "source": [
    "bearer_token = \"\" # removed due to privacy\n",
    "output_path = \"\" # removed due to privacy\n",
    "x_scraper = TwitterScraper(bearer_token, output_path)\n",
    "\n",
    "query = '(\"hate speech\" OR \"offensive language\" OR \"toxic content\") -is:retweet -is:reply -has:links lang:en'\n",
    "x_scraper.scrape_recent_tweets(query)"
   ]
  },
  {
   "cell_type": "code",
   "execution_count": null,
   "metadata": {},
   "outputs": [],
   "source": []
  }
 ],
 "metadata": {
  "kernelspec": {
   "display_name": ".venv",
   "language": "python",
   "name": "python3"
  },
  "language_info": {
   "codemirror_mode": {
    "name": "ipython",
    "version": 3
   },
   "file_extension": ".py",
   "mimetype": "text/x-python",
   "name": "python",
   "nbconvert_exporter": "python",
   "pygments_lexer": "ipython3",
   "version": "3.12.2"
  }
 },
 "nbformat": 4,
 "nbformat_minor": 2
}
